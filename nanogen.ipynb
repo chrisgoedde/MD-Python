{
 "cells": [
  {
   "cell_type": "code",
   "execution_count": 1,
   "metadata": {
    "collapsed": false
   },
   "outputs": [],
   "source": [
    "import os\n",
    "os.environ[\"PATH\"] += \":/Users/goedde/Dropbox/Current Projects/CNT/NAMD 2.10:/Users/goedde/Dropbox/Current Projects/CNT/VMD 1.9.2/VMD 1.9.2.app/Contents/vmd\"\n",
    "import nanogen as ng"
   ]
  },
  {
   "cell_type": "code",
   "execution_count": 2,
   "metadata": {
    "collapsed": false
   },
   "outputs": [
    {
     "name": "stdout",
     "output_type": "stream",
     "text": [
      "################################################################\n",
      "Simulation finished\n",
      "Simulation file saved into /Users/goedde/Dropbox/Current Projects/CNT/MD Simulations/Results/cnt200_4x4/PBC/test_run/10/100/test.dcd.\n",
      "################################################################\n",
      "\n"
     ]
    }
   ],
   "source": [
    "ng.main('test', 200, 0, 4, 4, 10, 100, 0, 100)"
   ]
  },
  {
   "cell_type": "code",
   "execution_count": null,
   "metadata": {
    "collapsed": false
   },
   "outputs": [],
   "source": [
    "os.environ\n"
   ]
  },
  {
   "cell_type": "code",
   "execution_count": null,
   "metadata": {
    "collapsed": true
   },
   "outputs": [],
   "source": []
  }
 ],
 "metadata": {
  "kernelspec": {
   "display_name": "Python 2",
   "language": "python",
   "name": "python2"
  },
  "language_info": {
   "codemirror_mode": {
    "name": "ipython",
    "version": 2
   },
   "file_extension": ".py",
   "mimetype": "text/x-python",
   "name": "python",
   "nbconvert_exporter": "python",
   "pygments_lexer": "ipython2",
   "version": "2.7.11"
  }
 },
 "nbformat": 4,
 "nbformat_minor": 0
}
