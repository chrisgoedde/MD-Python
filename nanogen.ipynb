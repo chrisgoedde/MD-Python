{
 "cells": [
  {
   "cell_type": "code",
   "execution_count": 2,
   "metadata": {
    "collapsed": false
   },
   "outputs": [],
   "source": [
    "import os\n",
    "os.environ[\"PATH\"] += \":/Users/goedde/Dropbox/Current Projects/CNT/NAMD 2.10:/Users/goedde/Dropbox/Current Projects/CNT/VMD 1.9.2/VMD 1.9.2.app/Contents/vmd\"\n",
    "import nanogen as ng"
   ]
  },
  {
   "cell_type": "code",
   "execution_count": 15,
   "metadata": {
    "collapsed": false
   },
   "outputs": [
    {
     "name": "stdout",
     "output_type": "stream",
     "text": [
      "################################################################\n",
      "Simulation finished\n",
      "Simulation file saved into /Users/goedde/Dropbox/Current Projects/CNT/MD Simulations/Test/4 x 4/N0 = 200/PBC/Temp = 10/Tf = 100/Test.dcd.\n",
      "################################################################\n",
      "\n"
     ]
    }
   ],
   "source": [
    "reload(ng)\n",
    "ng.main('Test', 200, 0, 4, 4, 10, 100, 0, 100)"
   ]
  },
  {
   "cell_type": "code",
   "execution_count": 11,
   "metadata": {
    "collapsed": false
   },
   "outputs": [
    {
     "data": {
      "text/plain": [
       "('/Users/goedde/Dropbox/Current Projects/CNT/MD Simulations/Test/4 x 4/N0 = 200/PBC/',\n",
       " '/Users/goedde/Dropbox/Current Projects/CNT/MD Simulations/Test/4 x 4/N0 = 200/PBC/Config Files/')"
      ]
     },
     "execution_count": 11,
     "metadata": {},
     "output_type": "execute_result"
    }
   ],
   "source": [
    "ng.tubeGen('Test', 'Test', 200, 4, 4)\n"
   ]
  },
  {
   "cell_type": "code",
   "execution_count": null,
   "metadata": {
    "collapsed": true
   },
   "outputs": [],
   "source": []
  }
 ],
 "metadata": {
  "kernelspec": {
   "display_name": "Python 2",
   "language": "python",
   "name": "python2"
  },
  "language_info": {
   "codemirror_mode": {
    "name": "ipython",
    "version": 2
   },
   "file_extension": ".py",
   "mimetype": "text/x-python",
   "name": "python",
   "nbconvert_exporter": "python",
   "pygments_lexer": "ipython2",
   "version": "2.7.11"
  }
 },
 "nbformat": 4,
 "nbformat_minor": 0
}
